{
  "nbformat": 4,
  "nbformat_minor": 0,
  "metadata": {
    "colab": {
      "provenance": [],
      "collapsed_sections": [],
      "authorship_tag": "ABX9TyOjB+0ttbtosoJ++RPWBtfl",
      "include_colab_link": true
    },
    "kernelspec": {
      "name": "python3",
      "display_name": "Python 3"
    },
    "language_info": {
      "name": "python"
    }
  },
  "cells": [
    {
      "cell_type": "markdown",
      "metadata": {
        "id": "view-in-github",
        "colab_type": "text"
      },
      "source": [
        "<a href=\"https://colab.research.google.com/github/lucasloch/metodos_numericos/blob/main/MN_Lista1_Lucas_Vitor_Loch_Pereira.ipynb\" target=\"_parent\"><img src=\"https://colab.research.google.com/assets/colab-badge.svg\" alt=\"Open In Colab\"/></a>"
      ]
    },
    {
      "cell_type": "markdown",
      "metadata": {
        "id": "EfIuTIjG35cH"
      },
      "source": [
        "\n",
        "<p align=\"center\">\n",
        "  <img src=\"https://www.aedi.ufpa.br/biologia/images/M_images/BioDistan/UFPA-LOGO.png\" alt=\"UFPA logo\" width=100/>\n",
        "</p>\n",
        "\n",
        "<p align=\"center\">\n",
        "  <strong>Universidade Federal do Pará (UFPA) - Tucuruí, PA - Brasil</strong><br>\n",
        "  <strong>Faculdade de Engenharia de Computação</strong>\n",
        "</p>\n",
        "\n",
        "---\n",
        "\n",
        "# Lista 1 da Disciplina de **Métodos Numéricos para Engenharia**\n",
        "\n",
        "---\n",
        "\n",
        "> Docente: **Otávio Noura Teixeira**<br>\n",
        "> Discente: **Lucas Vitor Loch Pereira**<br>\n",
        "> Matrícula: **201833840013**<br>\n",
        "> Data: **30/09/2022**\n",
        "\n"
      ]
    },
    {
      "cell_type": "markdown",
      "source": [
        "---\n",
        "## Questão 1\n",
        "Escreva um programa que leia uma matriz e calcule o determinante desta matriz.\n"
      ],
      "metadata": {
        "id": "jt7_4rSTHGK3"
      }
    },
    {
      "cell_type": "code",
      "execution_count": 1,
      "metadata": {
        "id": "e8CnEAbcGPOh"
      },
      "outputs": [],
      "source": [
        "import numpy as np\n",
        "from copy import deepcopy\n",
        "\n",
        "def matriz_menor(matriz, linha, coluna):\n",
        "    matriz_copia = deepcopy(matriz)\n",
        "    matriz_copia.remove(matriz[linha])\n",
        "    for i in range(len(matriz_copia)):\n",
        "        matriz_copia[i].pop(coluna) \n",
        "    return matriz_copia\n",
        "\n",
        "def determinante(matriz):  # Este método resolve apenas matrizes quadradas\n",
        "  for linha in matriz:  # Verifica se a matriz é quadrada\n",
        "    if len(linha) != len(matriz):\n",
        "      return 'Não é uma matriz quadrada.'\n",
        "\n",
        "  if len(matriz[0]) == 2:  # Caso a matriz seja de ordem 2\n",
        "    det = matriz[0][0] * matriz[1][1] - matriz[1][0] * matriz[0][1]\n",
        "    return det\n",
        "  \n",
        "  det = 0  # Esse método faz uso da recursão, onde vai buscando o determinante de matrizes menores\n",
        "  for i in range(len(matriz)):\n",
        "    det += ((-1)**i) * matriz[0][i] * determinante(matriz_menor(matriz, 0, i))\n",
        "  return det"
      ]
    },
    {
      "cell_type": "code",
      "source": [
        "matriz = [\n",
        "    [1, 0, 6], \n",
        "    [0, 1, 4], \n",
        "    [3, 6, 2]\n",
        "]\n",
        "print('Matriz:')\n",
        "print('\\n'.join([''.join(['{:4}'.format(valor) for valor in linha]) for linha in matriz]))\n",
        "print(f'Determinante da matriz: {determinante(matriz)}')\n",
        "print(f'Determinante da matriz: {np.linalg.det(matriz)} (com método \"numpy.linallg.det\")')"
      ],
      "metadata": {
        "colab": {
          "base_uri": "https://localhost:8080/"
        },
        "id": "4rXIjIZ5h5r_",
        "outputId": "2adba4c7-54f2-4000-84e9-4f9d228330b9"
      },
      "execution_count": 2,
      "outputs": [
        {
          "output_type": "stream",
          "name": "stdout",
          "text": [
            "Matriz:\n",
            "   1   0   6\n",
            "   0   1   4\n",
            "   3   6   2\n",
            "Determinante da matriz: -40\n",
            "Determinante da matriz: -40.0 (com método \"numpy.linallg.det\")\n"
          ]
        }
      ]
    },
    {
      "cell_type": "markdown",
      "source": [
        "---\n",
        "## Questão 2\n",
        "Use eliminação de Gauss para resolver **Ax = b**, onde\n",
        "\n",
        "$$A =\n",
        " \\begin{bmatrix}\n",
        "  2 & 0 & -1 & 0 \\\\\n",
        "  0 & 1 & 2 & 0 \\\\\n",
        "  -1 & 2 & 0 & 1 \\\\\n",
        "  0 & 0 & 1 & -2\n",
        " \\end{bmatrix}\n",
        "B =\n",
        " \\begin{bmatrix}\n",
        "  1 & 0 \\\\\n",
        "  0 & 0 \\\\\n",
        "  0 & 1 \\\\\n",
        "  0 & 0\n",
        " \\end{bmatrix}$$"
      ],
      "metadata": {
        "id": "_b7k9-vEHWgp"
      }
    },
    {
      "cell_type": "code",
      "source": [
        "import numpy as np\n",
        "\n",
        "def metodo_gauss(A, b):\n",
        "  n = len(b)\n",
        "  x = np.zeros(n, dtype=object)\n",
        "\n",
        "  for k in range(0, n-1):\n",
        "    for i in range(k+1, n):\n",
        "      ratio = A[i,k] / A[k,k]\n",
        "      for j in range(k, n-1):\n",
        "        A[i,j] -= ratio * A[k,j]\n",
        "      b[i] -= ratio * b[k]\n",
        "        \n",
        "  x[n-1] = b[n-1] / A[n-1, n-1]\n",
        "  for i in range(n-2, -1, -1):\n",
        "    soma_j = 0\n",
        "    for j in range(i+1, n):\n",
        "      soma_j += A[i,j] * x[j]\n",
        "    x[i] = (b[i] - soma_j) / A[i,i]\n",
        "\n",
        "  return x"
      ],
      "metadata": {
        "id": "LD5D9hIVhv8s"
      },
      "execution_count": 3,
      "outputs": []
    },
    {
      "cell_type": "code",
      "source": [
        "A = np.array([\n",
        "    [2, 0, -1, 0], \n",
        "    [0, 1, 2, 0], \n",
        "    [-1, 2, 0, 1], \n",
        "    [0, 0, 1, -2]\n",
        "], dtype='float')\n",
        "\n",
        "b = np.array([\n",
        "    [1, 0], \n",
        "    [0, 0], \n",
        "    [0, 1], \n",
        "    [0, 0]\n",
        "], dtype='float')\n",
        "\n",
        "x = metodo_gauss(A, b)\n",
        "x = np.stack(x, axis=0)\n",
        "\n",
        "print('Matriz A:\\n', A)\n",
        "print('\\nMatriz B:\\n', b)\n",
        "print('\\nRESULTADO ENCONTRADO:\\nx =', x)\n",
        "print('\\nRESULTADO COM O MÉTODO \"numpy.linalg.solve()\":\\nx =', np.linalg.solve(A, b))\n",
        "print('\\nCHECANDO RESULTADO: A{x} - b\\n',np.dot(A, x) - b)"
      ],
      "metadata": {
        "id": "S3d4aERxMiyF",
        "colab": {
          "base_uri": "https://localhost:8080/"
        },
        "outputId": "b565768c-2801-4a67-97c3-537637840ff3"
      },
      "execution_count": 4,
      "outputs": [
        {
          "output_type": "stream",
          "name": "stdout",
          "text": [
            "Matriz A:\n",
            " [[ 2.   0.  -1.   0. ]\n",
            " [ 0.   1.   2.   0. ]\n",
            " [ 0.   0.  -4.5  1. ]\n",
            " [ 0.   0.   0.  -2. ]]\n",
            "\n",
            "Matriz B:\n",
            " [[1.         0.        ]\n",
            " [0.         0.        ]\n",
            " [0.5        1.        ]\n",
            " [0.11111111 0.22222222]]\n",
            "\n",
            "RESULTADO ENCONTRADO:\n",
            "x = [[ 0.4382716  -0.12345679]\n",
            " [ 0.24691358  0.49382716]\n",
            " [-0.12345679 -0.24691358]\n",
            " [-0.05555556 -0.11111111]]\n",
            "\n",
            "RESULTADO COM O MÉTODO \"numpy.linalg.solve()\":\n",
            "x = [[ 0.4382716  -0.12345679]\n",
            " [ 0.24691358  0.49382716]\n",
            " [-0.12345679 -0.24691358]\n",
            " [-0.05555556 -0.11111111]]\n",
            "\n",
            "CHECANDO RESULTADO: A{x} - b\n",
            " [[0. 0.]\n",
            " [0. 0.]\n",
            " [0. 0.]\n",
            " [0. 0.]]\n"
          ]
        }
      ]
    },
    {
      "cell_type": "markdown",
      "source": [
        "---\n",
        "## Questão 3\n",
        "Use eliminação de Gauss para resolver **Ax = b**, onde\n",
        "\n",
        "$$A =\n",
        " \\begin{bmatrix}\n",
        "  0 & 0 & 2 & 1 & 2 \\\\\n",
        "  0 & 1 & 0 & 2 & -1 \\\\\n",
        "  1 & 2 & 0 & -2 & 0 \\\\\n",
        "  0 & 0 & 0 & -1 & 1 \\\\\n",
        "  0 & 1 & -1 & 1 & -1\n",
        " \\end{bmatrix}\n",
        "B =\n",
        " \\begin{bmatrix}\n",
        "  1 \\\\\n",
        "  1 \\\\\n",
        "  -4 \\\\\n",
        "  -2 \\\\\n",
        "  -1\n",
        " \\end{bmatrix}$$"
      ],
      "metadata": {
        "id": "z_YcIWRTLS2u"
      }
    },
    {
      "cell_type": "code",
      "source": [
        "import numpy as np\n",
        "\n",
        "def metodo_gauss2(A, B):\n",
        "  Ab = np.column_stack((A, B))  # Cria a matriz ampliada\n",
        "  n = len(Ab) # Número de variáveis que se deve encontrar\n",
        "  \n",
        "  # Obtém a forma triangular superior:\n",
        "  for i in range(n):\n",
        "      k = np.argmax(np.abs(Ab[i:,i])) # buscando o maior pivo\n",
        "      if k > 0:\n",
        "        Ab[i+k], Ab[i] = np.copy(Ab[i]), np.copy(Ab[i+k]) # Trocando linhas\n",
        "      m = Ab[i,i:] / Ab[i,i] # Multiplicadores\n",
        "      for j in range(i+1, n): # Reduzindo as linhas abaixo da linha i\n",
        "        Ab[j,i:] -= Ab[j,i] * m\n",
        "        Ab[j,:i] = 0.\n",
        "\n",
        "  Ab_copia = Ab.copy()\n",
        "\n",
        "  # Resolve o sistema triangular superior:\n",
        "  for i in range(n-1, -1, -1):\n",
        "    for j in range(n-1, i, -1):\n",
        "      Ab[i,-1] -= Ab[i,j] * Ab[j,-1]\n",
        "    Ab[i,-1] /= Ab[i,i] # Última coluna de A tem a solução\n",
        "  \n",
        "  return Ab[:,-1], Ab_copia"
      ],
      "metadata": {
        "id": "fAh9ZhtY3U4j"
      },
      "execution_count": 5,
      "outputs": []
    },
    {
      "cell_type": "code",
      "source": [
        "A = np.array([\n",
        "    [0, 0, 2, 1, 2], \n",
        "    [0, 1, 0, 2, -1], \n",
        "    [1, 2, 0, -2, 0], \n",
        "    [0, 0, 0, -1, 1], \n",
        "    [0, 1, -1, 1, -1]\n",
        "], dtype='float')\n",
        "\n",
        "b = np.array([1, 1, -4, -2, -1], dtype='float')\n",
        "\n",
        "A_copia = A.copy()\n",
        "b_copia = b.copy()\n",
        "x, Ab = metodo_gauss2(A_copia, b_copia)\n",
        "\n",
        "print('Matriz A:\\n', A)\n",
        "print('\\nMatriz B:\\n', b)\n",
        "print('\\nMatriz Aumentada Ab na forma triangular:\\n', Ab)\n",
        "print('\\nRESULTADO ENCONTRADO:\\nx =', x)\n",
        "print('\\nRESULTADO COM O MÉTODO \"numpy.linalg.solve()\":\\nx =', np.linalg.solve(A, b))\n",
        "print('\\nCHECANDO RESULTADO: A{x} - b\\n',np.dot(A, x) - b)"
      ],
      "metadata": {
        "colab": {
          "base_uri": "https://localhost:8080/"
        },
        "id": "R9KGh7rmCzGI",
        "outputId": "4bff15af-ef5f-4c09-d970-7dc48aaec8fe"
      },
      "execution_count": 6,
      "outputs": [
        {
          "output_type": "stream",
          "name": "stdout",
          "text": [
            "Matriz A:\n",
            " [[ 0.  0.  2.  1.  2.]\n",
            " [ 0.  1.  0.  2. -1.]\n",
            " [ 1.  2.  0. -2.  0.]\n",
            " [ 0.  0.  0. -1.  1.]\n",
            " [ 0.  1. -1.  1. -1.]]\n",
            "\n",
            "Matriz B:\n",
            " [ 1.  1. -4. -2. -1.]\n",
            "\n",
            "Matriz Aumentada Ab na forma triangular:\n",
            " [[ 1.   2.   0.  -2.   0.  -4. ]\n",
            " [ 0.   1.   0.   2.  -1.   1. ]\n",
            " [ 0.   0.   2.   1.   2.   1. ]\n",
            " [ 0.   0.   0.  -1.   1.  -2. ]\n",
            " [ 0.   0.   0.   0.   0.5 -0.5]]\n",
            "\n",
            "RESULTADO ENCONTRADO:\n",
            "x = [ 2. -2.  1.  1. -1.]\n",
            "\n",
            "RESULTADO COM O MÉTODO \"numpy.linalg.solve()\":\n",
            "x = [ 2. -2.  1.  1. -1.]\n",
            "\n",
            "CHECANDO RESULTADO: A{x} - b\n",
            " [0. 0. 0. 0. 0.]\n"
          ]
        }
      ]
    },
    {
      "cell_type": "markdown",
      "source": [
        "---\n",
        "## Questão 4\n",
        "Faça a decomposição LU da seguinte matriz:\n",
        "\n",
        "$$\\begin{bmatrix}\n",
        "  4 & -1 & 0 \\\\\n",
        "  -1 & 4 & -1 \\\\\n",
        "  0 & -1 & 4\n",
        " \\end{bmatrix}$$"
      ],
      "metadata": {
        "id": "OqSVwhwpL5Ae"
      }
    },
    {
      "cell_type": "code",
      "source": [
        "import numpy as np\n",
        "\n",
        "def decomposicaoLU(A):  \n",
        "  U = np.copy(A)\n",
        "  n = np.shape(U)[0]\n",
        "  L = np.eye(n)\n",
        "  for j in np.arange(n-1):\n",
        "    for i in np.arange(j+1,n):\n",
        "      L[i,j] = U[i,j] / U[j,j]\n",
        "      for k in np.arange(j+1,n):\n",
        "        U[i,k] = U[i,k] - L[i,j] * U[j,k]\n",
        "        U[i,j] = 0\n",
        "  return L, U"
      ],
      "metadata": {
        "id": "NlUvGEG0UCUy"
      },
      "execution_count": 7,
      "outputs": []
    },
    {
      "cell_type": "code",
      "source": [
        "A = np.array([\n",
        "    [4, -1, 0], \n",
        "    [-1, 4, -1], \n",
        "    [0, -1, 4]\n",
        "], dtype='float')\n",
        "\n",
        "L, U = decomposicaoLU(A)\n",
        "\n",
        "print('Matriz L:\\n', L)\n",
        "print('\\nMatriz U:\\n', U)"
      ],
      "metadata": {
        "colab": {
          "base_uri": "https://localhost:8080/"
        },
        "id": "DxeOZv1BqSIw",
        "outputId": "842c4907-080e-4ef1-8a4e-094861ff4f3b"
      },
      "execution_count": 8,
      "outputs": [
        {
          "output_type": "stream",
          "name": "stdout",
          "text": [
            "Matriz L:\n",
            " [[ 1.          0.          0.        ]\n",
            " [-0.25        1.          0.        ]\n",
            " [ 0.         -0.26666667  1.        ]]\n",
            "\n",
            "Matriz U:\n",
            " [[ 4.         -1.          0.        ]\n",
            " [ 0.          3.75       -1.        ]\n",
            " [ 0.          0.          3.73333333]]\n"
          ]
        }
      ]
    },
    {
      "cell_type": "markdown",
      "source": [
        "---\n",
        "## Questão 5\n",
        "Escreva um programa que resolva o seguinte sistema **Ax=b** usando decomposição LU, para um valor arbitrário de n:\n",
        "\n",
        "$$A = \n",
        "\\begin{bmatrix}\n",
        "  1 & 1/2 & 1/3 & \\cdots \\\\\n",
        "  1/2 & 1/3 & 1/4 & \\cdots \\\\\n",
        "  1/3 & 1/4 & 1/5 & \\cdots \\\\\n",
        "  \\vdots & \\vdots & \\vdots & \\ddots\n",
        " \\end{bmatrix}$$\n",
        "\n",
        "\\begin{align}\n",
        "  b_i = \\sum_{j=1}^{n} A_{ij}\n",
        "\\end{align}"
      ],
      "metadata": {
        "id": "BxO0dseEMQBO"
      }
    },
    {
      "cell_type": "code",
      "source": [
        "import numpy as np\n",
        "\n",
        "def cria_matrizes(n):\n",
        "    A, b = [], []\n",
        "    for i in range(n):\n",
        "        linha = [1 / (1+i+j) for j in range(n)]\n",
        "        A.append(linha)\n",
        "        b.append(sum(linha))\n",
        "    return np.array(A), np.array(b)\n",
        "\n",
        "\n",
        "def decomposicaoLU(A):  \n",
        "  U = np.copy(A)\n",
        "  n = np.shape(U)[0]\n",
        "  L = np.eye(n)\n",
        "  for j in np.arange(n-1):\n",
        "    for i in np.arange(j+1,n):\n",
        "      L[i,j] = U[i,j] / U[j,j]\n",
        "      for k in np.arange(j+1,n):\n",
        "        U[i,k] = U[i,k] - L[i,j] * U[j,k]\n",
        "        U[i,j] = 0\n",
        "  return L, U\n",
        "\n",
        "\n",
        "def resolucaoLyB(L, b):\n",
        "  y = []\n",
        "  for i in range(len(b)):\n",
        "        y.append(b[i])\n",
        "        for j in range(i):\n",
        "            y[i] = y[i] - (L[i,j] * y[j])\n",
        "        y[i] = y[i] / L[i,i]\n",
        "  return y\n",
        "\n",
        "\n",
        "def resolucaoUxY(U, y):\n",
        "  x = np.zeros_like(y)\n",
        "  for i in range(len(x),0,-1):\n",
        "    x[i-1] = (y[i-1] - np.dot(U[i-1, i:], x[i:])) / U[i-1, i-1]\n",
        "  return x\n",
        "\n",
        "\n",
        "def resolucao(A, b):\n",
        "    L, U = decomposicaoLU(A)\n",
        "    y = resolucaoLyB(L, b)\n",
        "    x = resolucaoUxY(U, y)\n",
        "    return L, U, x"
      ],
      "metadata": {
        "id": "GFu5mQMwUB8d"
      },
      "execution_count": 9,
      "outputs": []
    },
    {
      "cell_type": "code",
      "source": [
        "n = int(input('Informe a ordem da matriz quadrada: '))\n",
        "A, b = cria_matrizes(n)\n",
        "L, U, x = resolucao(A, b)\n",
        "\n",
        "print('\\nMatriz A:')\n",
        "print(A)\n",
        "print('\\nMatriz b:')\n",
        "print(b)\n",
        "print('\\nMatriz U:')\n",
        "print(U)\n",
        "print('\\nMatriz L:')\n",
        "print(L,'\\n')\n",
        "cont = 0\n",
        "for valor in x:\n",
        "  print(f'x{cont}: {valor}')\n",
        "  cont += 1\n",
        "print('\\nCHECANDO RESULTADO: A{x} - b\\n',np.dot(A, x) - b)"
      ],
      "metadata": {
        "colab": {
          "base_uri": "https://localhost:8080/"
        },
        "id": "o52M4n2HTZWt",
        "outputId": "6b14376a-6851-4c1b-b05d-69dcf544a79e"
      },
      "execution_count": 10,
      "outputs": [
        {
          "output_type": "stream",
          "name": "stdout",
          "text": [
            "Informe a ordem da matriz quadrada: 4\n",
            "\n",
            "Matriz A:\n",
            "[[1.         0.5        0.33333333 0.25      ]\n",
            " [0.5        0.33333333 0.25       0.2       ]\n",
            " [0.33333333 0.25       0.2        0.16666667]\n",
            " [0.25       0.2        0.16666667 0.14285714]]\n",
            "\n",
            "Matriz b:\n",
            "[2.08333333 1.28333333 0.95       0.75952381]\n",
            "\n",
            "Matriz U:\n",
            "[[1.00000000e+00 5.00000000e-01 3.33333333e-01 2.50000000e-01]\n",
            " [0.00000000e+00 8.33333333e-02 8.33333333e-02 7.50000000e-02]\n",
            " [0.00000000e+00 0.00000000e+00 5.55555556e-03 8.33333333e-03]\n",
            " [0.00000000e+00 0.00000000e+00 0.00000000e+00 3.57142857e-04]]\n",
            "\n",
            "Matriz L:\n",
            "[[1.         0.         0.         0.        ]\n",
            " [0.5        1.         0.         0.        ]\n",
            " [0.33333333 1.         1.         0.        ]\n",
            " [0.25       0.9        1.5        1.        ]] \n",
            "\n",
            "x0: 0.9999999999999778\n",
            "x1: 1.0000000000002485\n",
            "x2: 0.999999999999402\n",
            "x3: 1.0000000000003886\n",
            "\n",
            "CHECANDO RESULTADO: A{x} - b\n",
            " [0. 0. 0. 0.]\n"
          ]
        }
      ]
    },
    {
      "cell_type": "markdown",
      "source": [
        "---\n",
        "## Questão 6\n",
        "Inverta a seguinte matriz utilizando o método Gauss-Jordan:\n",
        "\n",
        "$$\\begin{bmatrix}\n",
        "  0 & 1 & 3 \\\\\n",
        "  3 & -1 & 2 \\\\\n",
        "  -2 & 2 & -4\n",
        " \\end{bmatrix}$$"
      ],
      "metadata": {
        "id": "1_j4cP4VNojD"
      }
    },
    {
      "cell_type": "code",
      "source": [
        "import numpy as np\n",
        "\n",
        "def metodo_gaussjordan(A):\n",
        "  A = np.array(A)\n",
        "  m, n = A.shape\n",
        "  I = np.eye(m)  # Cria a matriz identidade de A\n",
        "  aum_A = np.c_[A, I]  # Matriz aumentada de A\n",
        "  \n",
        "  # Aplicando Gauss-Jordan\n",
        "  j = 0\n",
        "  for i in range(m-1):\n",
        "    pivo = aum_A[i][j]\n",
        "    if pivo == 0:\n",
        "      # Evitando a divisão por zero\n",
        "      tst = False\n",
        "      for k in range(i+1,m):\n",
        "        if aum_A[k][j] != 0:\n",
        "          temp = aum_A[k].copy()\n",
        "          aum_A[k] = aum_A[i].copy()\n",
        "          aum_A[i] = temp.copy()\n",
        "          tst = True \n",
        "          break\n",
        "      if tst == False:\n",
        "        raise Exception(\"None\")\n",
        "      else:\n",
        "        pivo = aum_A[i][j]\n",
        "    for k in range(i+1, m):\n",
        "      valor = aum_A[k][j]\n",
        "      multiplicador = valor / pivo\n",
        "      aum_A[k] = aum_A[k] - multiplicador*aum_A[i]\n",
        "    j += 1\n",
        "        \n",
        "  j = m-1\n",
        "  for i in range(m-1,0,-1):\n",
        "    pivo = aum_A[i][j]\n",
        "    for k in range(i-1,-1,-1):\n",
        "      valor = aum_A[k][j]\n",
        "      multiplicador = valor / pivo\n",
        "      aum_A[k] = aum_A[k] - multiplicador*aum_A[i]\n",
        "    j -= 1\n",
        "\n",
        "  for i in range(m):\n",
        "    aum_A[i] /= aum_A[i][i]\n",
        "\n",
        "  return aum_A[:,m:]"
      ],
      "metadata": {
        "id": "lOXVxDLuUBrP"
      },
      "execution_count": 11,
      "outputs": []
    },
    {
      "cell_type": "code",
      "source": [
        "A = np.array([\n",
        "    [0, 1, 3], \n",
        "    [3, -1, 2], \n",
        "    [-2, 2, -4]\n",
        "], dtype='float')\n",
        "\n",
        "inv = metodo_gaussjordan(A)\n",
        "print('Matriz Original:\\n', A)\n",
        "print('\\nMatriz inversa usando Gauss Jordan:\\n', inv)\n",
        "print('\\nMatriz inversa usando \"numpy.linalg.inv\":\\n', np.linalg.inv(A))"
      ],
      "metadata": {
        "colab": {
          "base_uri": "https://localhost:8080/"
        },
        "id": "du3vwGRMUVZ3",
        "outputId": "d77d09e3-b21a-442f-aaf1-e45023f923f5"
      },
      "execution_count": 12,
      "outputs": [
        {
          "output_type": "stream",
          "name": "stdout",
          "text": [
            "Matriz Original:\n",
            " [[ 0.  1.  3.]\n",
            " [ 3. -1.  2.]\n",
            " [-2.  2. -4.]]\n",
            "\n",
            "Matriz inversa usando Gauss Jordan:\n",
            " [[ 0.    0.5   0.25]\n",
            " [ 0.4   0.3   0.45]\n",
            " [ 0.2  -0.1  -0.15]]\n",
            "\n",
            "Matriz inversa usando \"numpy.linalg.inv\":\n",
            " [[ 0.    0.5   0.25]\n",
            " [ 0.4   0.3   0.45]\n",
            " [ 0.2  -0.1  -0.15]]\n"
          ]
        }
      ]
    },
    {
      "cell_type": "markdown",
      "source": [
        "---\n",
        "## Questão 7\n",
        "Inverta a seguinte matriz utilizando o método Gauss-Jordan:\n",
        "\n",
        "$$\\begin{bmatrix}\n",
        "  2 & 4 & 3 \\\\\n",
        "  0 & 6 & 5 \\\\\n",
        "  0 & 0 & 2\n",
        " \\end{bmatrix}$$"
      ],
      "metadata": {
        "id": "MN17arsCNzYp"
      }
    },
    {
      "cell_type": "code",
      "source": [
        "A = np.array([\n",
        "    [2, 4, 3], \n",
        "    [0, 6, 5], \n",
        "    [0, 0, 2]\n",
        "], dtype='float')\n",
        "\n",
        "inv = metodo_gaussjordan(A)  # Função criada na questão 6\n",
        "print('Matriz Original:\\n', A)\n",
        "print('\\nMatriz inversa usando o método de Gauss-Jordan:\\n', inv)\n",
        "print('\\nMatriz inversa usando o método \"numpy.linalg.inv\":\\n', np.linalg.inv(A))"
      ],
      "metadata": {
        "id": "kyu7bwaAUBTU",
        "colab": {
          "base_uri": "https://localhost:8080/"
        },
        "outputId": "6961ed6f-5bac-43c2-83b1-f673a4cabbc5"
      },
      "execution_count": 13,
      "outputs": [
        {
          "output_type": "stream",
          "name": "stdout",
          "text": [
            "Matriz Original:\n",
            " [[2. 4. 3.]\n",
            " [0. 6. 5.]\n",
            " [0. 0. 2.]]\n",
            "\n",
            "Matriz inversa usando o método de Gauss-Jordan:\n",
            " [[ 0.5        -0.33333333  0.08333333]\n",
            " [ 0.          0.16666667 -0.41666667]\n",
            " [ 0.          0.          0.5       ]]\n",
            "\n",
            "Matriz inversa usando o método \"numpy.linalg.inv\":\n",
            " [[ 0.5        -0.33333333  0.08333333]\n",
            " [ 0.          0.16666667 -0.41666667]\n",
            " [ 0.          0.          0.5       ]]\n"
          ]
        }
      ]
    },
    {
      "cell_type": "markdown",
      "source": [
        "---\n",
        "## Questão 8\n",
        "Inverta a seguinte matriz utilizando o método Gauss-Jordan:\n",
        "\n",
        "$$\\begin{bmatrix}\n",
        "  2 & 0 & 0 \\\\\n",
        "  3 & 4 & 0 \\\\\n",
        "  4 & 5 & 6\n",
        " \\end{bmatrix}$$"
      ],
      "metadata": {
        "id": "UpfNSrL4N8Mb"
      }
    },
    {
      "cell_type": "code",
      "source": [
        "A = np.array([\n",
        "    [2, 0, 0], \n",
        "    [3, 4, 0], \n",
        "    [4, 5, 6]\n",
        "], dtype='float')\n",
        "\n",
        "inv = metodo_gaussjordan(A)  # Função criada na questão 6\n",
        "print('Matriz Original:\\n', A)\n",
        "print('\\nMatriz inversa usando Gauss Jordan:\\n', inv)\n",
        "print('\\nMatriz inversa usando \"numpy.linalg.inv\":\\n', np.linalg.inv(A))"
      ],
      "metadata": {
        "id": "XiaYttoTUBB9",
        "colab": {
          "base_uri": "https://localhost:8080/"
        },
        "outputId": "af7851eb-efcc-4c45-dead-ef89a841acfc"
      },
      "execution_count": 14,
      "outputs": [
        {
          "output_type": "stream",
          "name": "stdout",
          "text": [
            "Matriz Original:\n",
            " [[2. 0. 0.]\n",
            " [3. 4. 0.]\n",
            " [4. 5. 6.]]\n",
            "\n",
            "Matriz inversa usando Gauss Jordan:\n",
            " [[ 0.5         0.          0.        ]\n",
            " [-0.375       0.25        0.        ]\n",
            " [-0.02083333 -0.20833333  0.16666667]]\n",
            "\n",
            "Matriz inversa usando \"numpy.linalg.inv\":\n",
            " [[ 0.5         0.          0.        ]\n",
            " [-0.375       0.25       -0.        ]\n",
            " [-0.02083333 -0.20833333  0.16666667]]\n"
          ]
        }
      ]
    },
    {
      "cell_type": "markdown",
      "source": [
        "---\n",
        "## Questão 9\n",
        "Inverta a seguinte matriz utilizando o método Gauss-Jordan:\n",
        "\n",
        "$$\\begin{bmatrix}\n",
        "  1 & 1/2 & 1/4 & 1/8 \\\\\n",
        "  0 & 1 & 1/3 & 1/9 \\\\\n",
        "  0 & 0 & 1 & 1/4 \\\\\n",
        "  0 & 0 & 0 & 1\n",
        " \\end{bmatrix}$$"
      ],
      "metadata": {
        "id": "LUGNuZotN9Ty"
      }
    },
    {
      "cell_type": "code",
      "source": [
        "A = np.array([\n",
        "    [1, 1/2, 1/4, 1/8], \n",
        "    [0,  1,  1/3, 1/9], \n",
        "    [0,  0,   1,  1/4], \n",
        "    [0,  0,   0,   1]\n",
        "], dtype='float')\n",
        "\n",
        "inv = metodo_gaussjordan(A)  # Função criada na questão 6\n",
        "print('Matriz Original:\\n', A)\n",
        "print('\\nMatriz inversa usando Gauss Jordan:\\n', inv)\n",
        "print('\\nMatriz inversa usando \"numpy.linalg.inv\":\\n', np.linalg.inv(A))"
      ],
      "metadata": {
        "id": "qNYxPgewUAdj",
        "colab": {
          "base_uri": "https://localhost:8080/"
        },
        "outputId": "0a93004a-8cdb-4e6f-b448-3b5f8a117458"
      },
      "execution_count": 15,
      "outputs": [
        {
          "output_type": "stream",
          "name": "stdout",
          "text": [
            "Matriz Original:\n",
            " [[1.         0.5        0.25       0.125     ]\n",
            " [0.         1.         0.33333333 0.11111111]\n",
            " [0.         0.         1.         0.25      ]\n",
            " [0.         0.         0.         1.        ]]\n",
            "\n",
            "Matriz inversa usando Gauss Jordan:\n",
            " [[ 1.         -0.5        -0.08333333 -0.04861111]\n",
            " [ 0.          1.         -0.33333333 -0.02777778]\n",
            " [ 0.          0.          1.         -0.25      ]\n",
            " [ 0.          0.          0.          1.        ]]\n",
            "\n",
            "Matriz inversa usando \"numpy.linalg.inv\":\n",
            " [[ 1.         -0.5        -0.08333333 -0.04861111]\n",
            " [ 0.          1.         -0.33333333 -0.02777778]\n",
            " [ 0.          0.          1.         -0.25      ]\n",
            " [ 0.          0.          0.          1.        ]]\n"
          ]
        }
      ]
    },
    {
      "cell_type": "markdown",
      "source": [
        "---\n",
        "## Questão 10\n",
        "Inverta a seguinte matriz utilizando o método Gauss-Jordan:\n",
        "\n",
        "$$\\begin{bmatrix}\n",
        "  1 & 2 & 4 \\\\\n",
        "  1 & 3 & 9 \\\\\n",
        "  1 & 4 & 16\n",
        " \\end{bmatrix}$$"
      ],
      "metadata": {
        "id": "Xto_Nk9BORrm"
      }
    },
    {
      "cell_type": "code",
      "source": [
        "A = np.array([\n",
        "    [1, 2, 4], \n",
        "    [1, 3, 9], \n",
        "    [1, 4, 16]\n",
        "], dtype='float')\n",
        "\n",
        "inv = metodo_gaussjordan(A)  # Função criada na questão 6\n",
        "print('Matriz Original:\\n', A)\n",
        "print('\\nMatriz inversa usando Gauss Jordan:\\n', inv)\n",
        "print('\\nMatriz inversa usando \"numpy.linalg.inv\":\\n', np.linalg.inv(A))"
      ],
      "metadata": {
        "id": "KNQdRfHUUAIN",
        "colab": {
          "base_uri": "https://localhost:8080/"
        },
        "outputId": "b855acc8-4066-4672-ede4-b53432175529"
      },
      "execution_count": 16,
      "outputs": [
        {
          "output_type": "stream",
          "name": "stdout",
          "text": [
            "Matriz Original:\n",
            " [[ 1.  2.  4.]\n",
            " [ 1.  3.  9.]\n",
            " [ 1.  4. 16.]]\n",
            "\n",
            "Matriz inversa usando Gauss Jordan:\n",
            " [[ 6.  -8.   3. ]\n",
            " [-3.5  6.  -2.5]\n",
            " [ 0.5 -1.   0.5]]\n",
            "\n",
            "Matriz inversa usando \"numpy.linalg.inv\":\n",
            " [[ 6.  -8.   3. ]\n",
            " [-3.5  6.  -2.5]\n",
            " [ 0.5 -1.   0.5]]\n"
          ]
        }
      ]
    },
    {
      "cell_type": "markdown",
      "source": [
        "---\n",
        "## Questão 11\n",
        "Inverta a seguinte matriz utilizando o método Gauss-Jordan:\n",
        "\n",
        "$$\\begin{bmatrix}\n",
        "  4 & -1 & 0 \\\\\n",
        "  -1 & 4 & -1 \\\\\n",
        "  0 & -1 & -4\n",
        " \\end{bmatrix}$$"
      ],
      "metadata": {
        "id": "QQh3sV-iOZ31"
      }
    },
    {
      "cell_type": "code",
      "source": [
        "A = np.array([\n",
        "    [4, -1, 0], \n",
        "    [-1, 4, -1], \n",
        "    [0, -1, -4]\n",
        "], dtype='float')\n",
        "\n",
        "inv = metodo_gaussjordan(A)  # Função criada na questão 6\n",
        "print('Matriz Original:\\n', A)\n",
        "print('\\nMatriz inversa usando Gauss Jordan:\\n', inv)\n",
        "print('\\nMatriz inversa usando \"numpy.linalg.inv\":\\n', np.linalg.inv(A))"
      ],
      "metadata": {
        "id": "UDBx3oXdT_w8",
        "colab": {
          "base_uri": "https://localhost:8080/"
        },
        "outputId": "4a84666e-d1bc-4e56-a108-b2a207bedc98"
      },
      "execution_count": 17,
      "outputs": [
        {
          "output_type": "stream",
          "name": "stdout",
          "text": [
            "Matriz Original:\n",
            " [[ 4. -1.  0.]\n",
            " [-1.  4. -1.]\n",
            " [ 0. -1. -4.]]\n",
            "\n",
            "Matriz inversa usando Gauss Jordan:\n",
            " [[ 0.265625  0.0625   -0.015625]\n",
            " [ 0.0625    0.25     -0.0625  ]\n",
            " [-0.015625 -0.0625   -0.234375]]\n",
            "\n",
            "Matriz inversa usando \"numpy.linalg.inv\":\n",
            " [[ 0.265625  0.0625   -0.015625]\n",
            " [ 0.0625    0.25     -0.0625  ]\n",
            " [-0.015625 -0.0625   -0.234375]]\n"
          ]
        }
      ]
    },
    {
      "cell_type": "markdown",
      "source": [
        "---\n",
        "## Questão 12\n",
        "Inverta a seguinte matriz utilizando o método Gauss-Jordan:\n",
        "\n",
        "$$\\begin{bmatrix}\n",
        "  4 & -2 & 1 \\\\\n",
        "  -2 & 1 & -1 \\\\\n",
        "  1 & -2 & 4\n",
        " \\end{bmatrix}$$"
      ],
      "metadata": {
        "id": "wcYPbgfRObaW"
      }
    },
    {
      "cell_type": "code",
      "source": [
        "A = np.array([\n",
        "    [4, -2, 1], \n",
        "    [-2, 1, -1], \n",
        "    [1, -2, 4]\n",
        "], dtype='float')\n",
        "\n",
        "inv = metodo_gaussjordan(A)  # Função criada na questão 6\n",
        "print('Matriz Original:\\n', A)\n",
        "print('\\nMatriz inversa usando Gauss Jordan:\\n', inv)\n",
        "print('\\nMatriz inversa usando \"numpy.linalg.inv\":\\n', np.linalg.inv(A))"
      ],
      "metadata": {
        "id": "6DA2FOdaT_Xu",
        "colab": {
          "base_uri": "https://localhost:8080/"
        },
        "outputId": "66cd1ca3-a85b-47b2-fbca-d6c05b78b807"
      },
      "execution_count": 18,
      "outputs": [
        {
          "output_type": "stream",
          "name": "stdout",
          "text": [
            "Matriz Original:\n",
            " [[ 4. -2.  1.]\n",
            " [-2.  1. -1.]\n",
            " [ 1. -2.  4.]]\n",
            "\n",
            "Matriz inversa usando Gauss Jordan:\n",
            " [[-0.66666667 -2.         -0.33333333]\n",
            " [-2.33333333 -5.         -0.66666667]\n",
            " [-1.         -2.         -0.        ]]\n",
            "\n",
            "Matriz inversa usando \"numpy.linalg.inv\":\n",
            " [[-0.66666667 -2.         -0.33333333]\n",
            " [-2.33333333 -5.         -0.66666667]\n",
            " [-1.         -2.         -0.        ]]\n"
          ]
        }
      ]
    },
    {
      "cell_type": "markdown",
      "source": [
        "---\n",
        "## Questão 13\n",
        "Inverta a seguinte matriz utilizando qualquer método:\n",
        "\n",
        "$$\\begin{bmatrix}\n",
        "  5 & -3 & -1 & 0 \\\\\n",
        "  -2 & 1 & 1 & 1 \\\\\n",
        "  3 & -5 & 1 & 2 \\\\\n",
        "  0 & 8 & -4 & -3\n",
        " \\end{bmatrix}$$"
      ],
      "metadata": {
        "id": "gX-h7FZyOs7n"
      }
    },
    {
      "cell_type": "code",
      "source": [
        "A = np.array([\n",
        "    [5, -3, -1, 0], \n",
        "    [-2, 1, 1, 1], \n",
        "    [3, -5, 1, 2], \n",
        "    [0, 8, -4, -3]\n",
        "], dtype='float')\n",
        "\n",
        "inv = metodo_gaussjordan(A)  # Função criada na questão 6\n",
        "print('Matriz Original:\\n', A)\n",
        "print('\\nMatriz inversa usando Gauss Jordan:\\n', inv)\n",
        "print('\\nMatriz inversa usando \"numpy.linalg.inv\":\\n', np.linalg.inv(A))"
      ],
      "metadata": {
        "id": "hN9DvaXmT--P",
        "colab": {
          "base_uri": "https://localhost:8080/"
        },
        "outputId": "3f0c307f-09cb-4b2a-c607-84ab38eefca2"
      },
      "execution_count": 19,
      "outputs": [
        {
          "output_type": "stream",
          "name": "stdout",
          "text": [
            "Matriz Original:\n",
            " [[ 5. -3. -1.  0.]\n",
            " [-2.  1.  1.  1.]\n",
            " [ 3. -5.  1.  2.]\n",
            " [ 0.  8. -4. -3.]]\n",
            "\n",
            "Matriz inversa usando Gauss Jordan:\n",
            " [[ 1.125   1.     -0.875  -0.25  ]\n",
            " [ 0.8125  1.     -0.6875 -0.125 ]\n",
            " [ 2.1875  2.     -2.3125 -0.875 ]\n",
            " [-0.75    0.      1.25    0.5   ]]\n",
            "\n",
            "Matriz inversa usando \"numpy.linalg.inv\":\n",
            " [[ 1.12500000e+00  1.00000000e+00 -8.75000000e-01 -2.50000000e-01]\n",
            " [ 8.12500000e-01  1.00000000e+00 -6.87500000e-01 -1.25000000e-01]\n",
            " [ 2.18750000e+00  2.00000000e+00 -2.31250000e+00 -8.75000000e-01]\n",
            " [-7.50000000e-01 -5.55111512e-16  1.25000000e+00  5.00000000e-01]]\n"
          ]
        }
      ]
    },
    {
      "cell_type": "markdown",
      "source": [
        "---\n",
        "## Questão 14\n",
        "Inverta a seguinte matriz utilizando qualquer método:\n",
        "\n",
        "$$\\begin{bmatrix}\n",
        "  4 & -1 & 0 & 0 \\\\\n",
        "  -1 & 4 & -1 & 0 \\\\\n",
        "  0 & -1 & 4 & -1 \\\\\n",
        "  0 & 0 & -1 & 4\n",
        " \\end{bmatrix}$$"
      ],
      "metadata": {
        "id": "qsDtBjmRPCQz"
      }
    },
    {
      "cell_type": "code",
      "source": [
        "A = np.array([\n",
        "    [4, -1, 0, 0], \n",
        "    [-1, 4, -1, 0], \n",
        "    [0, -1, 4, -1], \n",
        "    [0, 0, -1, 4]\n",
        "], dtype='float')\n",
        "\n",
        "inv = metodo_gaussjordan(A)  # Função criada na questão 6\n",
        "print('Matriz Original:\\n', A)\n",
        "print('\\nMatriz inversa usando Gauss Jordan:\\n', inv)\n",
        "print('\\nMatriz inversa usando \"numpy.linalg.inv\":\\n', np.linalg.inv(A))"
      ],
      "metadata": {
        "id": "B5pvrkepT-p9",
        "colab": {
          "base_uri": "https://localhost:8080/"
        },
        "outputId": "49069031-dc12-4d53-81e2-ca551afc73df"
      },
      "execution_count": 20,
      "outputs": [
        {
          "output_type": "stream",
          "name": "stdout",
          "text": [
            "Matriz Original:\n",
            " [[ 4. -1.  0.  0.]\n",
            " [-1.  4. -1.  0.]\n",
            " [ 0. -1.  4. -1.]\n",
            " [ 0.  0. -1.  4.]]\n",
            "\n",
            "Matriz inversa usando Gauss Jordan:\n",
            " [[0.26794258 0.07177033 0.01913876 0.00478469]\n",
            " [0.07177033 0.28708134 0.07655502 0.01913876]\n",
            " [0.01913876 0.07655502 0.28708134 0.07177033]\n",
            " [0.00478469 0.01913876 0.07177033 0.26794258]]\n",
            "\n",
            "Matriz inversa usando \"numpy.linalg.inv\":\n",
            " [[0.26794258 0.07177033 0.01913876 0.00478469]\n",
            " [0.07177033 0.28708134 0.07655502 0.01913876]\n",
            " [0.01913876 0.07655502 0.28708134 0.07177033]\n",
            " [0.00478469 0.01913876 0.07177033 0.26794258]]\n"
          ]
        }
      ]
    },
    {
      "cell_type": "markdown",
      "source": [
        "---\n",
        "## Questão 15\n",
        "Inverta a seguinte matriz utilizando qualquer método:\n",
        "\n",
        "$$\\begin{bmatrix}\n",
        "  1 & 3 & -9 & 6 & 4 \\\\\n",
        "  2 & -1 & 6 & 7 & 1 \\\\\n",
        "  3 & 2 & -3 & 15 & 5 \\\\\n",
        "  8 & -1 & 1 & 4 & 2 \\\\\n",
        "  11 & 1 & -2 & 18 & 7\n",
        " \\end{bmatrix}$$"
      ],
      "metadata": {
        "id": "JW1L6WUfPQjc"
      }
    },
    {
      "cell_type": "code",
      "source": [
        "A = np.array([\n",
        "    [1, 3, -9, 6, 4], \n",
        "    [2, -1, 6, 7, 1], \n",
        "    [3, 2, -3, 15, 5], \n",
        "    [8, -1, 1, 4, 2], \n",
        "    [11, 1, -2, 18, 7]\n",
        "], dtype='float')\n",
        "\n",
        "inv = metodo_gaussjordan(A)  # Função criada na questão 6\n",
        "print('Matriz Original:\\n', A)\n",
        "print('\\nMatriz inversa usando Gauss Jordan:\\n', inv)\n",
        "print('\\nMatriz inversa usando \"numpy.linalg.inv\":\\n', np.linalg.inv(A))"
      ],
      "metadata": {
        "id": "J1So5hEwT-Vj",
        "colab": {
          "base_uri": "https://localhost:8080/"
        },
        "outputId": "6eb035e6-3420-42bb-89f1-97131badef99"
      },
      "execution_count": 21,
      "outputs": [
        {
          "output_type": "stream",
          "name": "stdout",
          "text": [
            "Matriz Original:\n",
            " [[ 1.  3. -9.  6.  4.]\n",
            " [ 2. -1.  6.  7.  1.]\n",
            " [ 3.  2. -3. 15.  5.]\n",
            " [ 8. -1.  1.  4.  2.]\n",
            " [11.  1. -2. 18.  7.]]\n",
            "\n",
            "Matriz inversa usando Gauss Jordan:\n",
            " [[-4.63853894e+13 -4.63853894e+13 -4.63853894e+13 -9.27707788e+13\n",
            "   9.27707788e+13]\n",
            " [-2.20330600e+14 -2.20330600e+14 -2.20330600e+14 -4.40661199e+14\n",
            "   4.40661199e+14]\n",
            " [-3.68974689e+13 -3.68974689e+13 -3.68974689e+13 -7.37949377e+13\n",
            "   7.37949377e+13]\n",
            " [-5.00000000e-01 -5.00000000e-01  5.00000000e-01  0.00000000e+00\n",
            "   0.00000000e+00]\n",
            " [ 9.38249922e+13  9.38249922e+13  9.38249922e+13  1.87649984e+14\n",
            "  -1.87649984e+14]]\n",
            "\n",
            "Matriz inversa usando \"numpy.linalg.inv\":\n",
            " [[-2.22649869e+15 -2.22649869e+15 -2.22649869e+15 -4.45299738e+15\n",
            "   4.45299738e+15]\n",
            " [-1.05758688e+16 -1.05758688e+16 -1.05758688e+16 -2.11517376e+16\n",
            "   2.11517376e+16]\n",
            " [-1.77107851e+15 -1.77107851e+15 -1.77107851e+15 -3.54215701e+15\n",
            "   3.54215701e+15]\n",
            " [-1.11022302e-16  0.00000000e+00  1.00000000e+00  1.00000000e+00\n",
            "  -1.00000000e+00]\n",
            " [ 4.50359963e+15  4.50359963e+15  4.50359963e+15  9.00719925e+15\n",
            "  -9.00719925e+15]]\n"
          ]
        }
      ]
    },
    {
      "cell_type": "markdown",
      "source": [
        "---\n",
        "## Questão 16\n",
        "Encontre a menor raiz positiva e real de “$x^{3} − 3.23x^{2} − 5.54x + 9.84 = 0$” utilizando o método da bisecção."
      ],
      "metadata": {
        "id": "YorVWH_rPnpY"
      }
    },
    {
      "cell_type": "code",
      "source": [
        "def metodo_bissecao(f, a, b, erro, qtd_iter):  \n",
        "  fa = f(a)\n",
        "  while qtd_iter > 0:\n",
        "    p = (a + b)/2  # Ponto da bissecao\n",
        "    fp = f(p)\n",
        "\n",
        "    # Condicao de parada\n",
        "    if ((fp == 0) or ((b-a)/2 < erro)):  \n",
        "      return p, qtd_iter\n",
        "\n",
        "    # Define o intervalo\n",
        "    if (fa * fp > 0):\n",
        "      a = p\n",
        "      fa = fp\n",
        "    else:\n",
        "      b = p\n",
        "    qtd_iter -= 1\n",
        "  return p, qtd_iter"
      ],
      "metadata": {
        "id": "tt7QVkNuT924"
      },
      "execution_count": 22,
      "outputs": []
    },
    {
      "cell_type": "code",
      "source": [
        "f = lambda x: x**3 - 3.23*x**2 + 5.54*x + 9.84\n",
        "raiz, iteracoes = metodo_bissecao(f, -5, 5, 1e-8, 1000)\n",
        "print('Raiz encontrada:', raiz)\n",
        "print('Numero de iteracoes:', iteracoes)"
      ],
      "metadata": {
        "colab": {
          "base_uri": "https://localhost:8080/"
        },
        "id": "BPqso1GAxHbs",
        "outputId": "d83f982f-af21-4c40-c4b9-10d113ba3c51"
      },
      "execution_count": 23,
      "outputs": [
        {
          "output_type": "stream",
          "name": "stdout",
          "text": [
            "Raiz encontrada: -1.004657642915845\n",
            "Numero de iteracoes: 971\n"
          ]
        }
      ]
    },
    {
      "cell_type": "markdown",
      "source": [
        "---\n",
        "## Questão 17\n",
        " A menor raiz maior que zero de “$cosh(x) cos(x−1) = 0$” reside no intervalo (4, 5). Crie um programa que encontre a raiz com 6 casas decimais de precisão."
      ],
      "metadata": {
        "id": "_bLy6HrPPtY6"
      }
    },
    {
      "cell_type": "code",
      "source": [
        "import numpy as np\n",
        "\n",
        "def raiz_ridder(f, a, b, tolerancia, qtd_iter):  \n",
        "  fa = f(a)\n",
        "  fb = f(b)\n",
        "  ultimoX = 0\n",
        "  while qtd_iter > 0:\n",
        "    # Reparte o ponto\n",
        "    p = (a + b)/2\n",
        "    fp = f(p)\n",
        "    # Aplica a fórmula de aproximação | será positivo se f(a)−f(b)>0  e negativo se f(a)−f(b)<0\n",
        "    try:\n",
        "      aprox = (p-a) * fp / np.sqrt(fp**2 - fa*fb)\n",
        "    except ZeroDivisionError:\n",
        "      return None, qtd_iter\n",
        "    aprox = -aprox if (fa - fb) < 0 else aprox\n",
        "\n",
        "    # Condicao de parada\n",
        "    x = p + aprox\n",
        "    fx = f(x)\n",
        "\n",
        "    # Na primeira iteração acontece: SE x for menor que a tolerância, encontrou!\n",
        "    if abs(x - ultimoX) < tolerancia*(1 if abs(x) < 1 else abs(x)):\n",
        "      return p, qtd_iter\n",
        "    ultimoX = x\n",
        "\n",
        "    # Ajusta o intervalo\n",
        "    if fx*fp > 0.0:\n",
        "      if fa*fx > 0.0:\n",
        "        a = x\n",
        "        fa = fx\n",
        "      else:\n",
        "        b = x\n",
        "        fb = fx\n",
        "    else:\n",
        "      a = p\n",
        "      b = x\n",
        "      fa = fp\n",
        "      fb = fx\n",
        "    qtd_iter -= 1\n",
        "  return p, qtd_iter"
      ],
      "metadata": {
        "id": "IHxz1kmmKIsj"
      },
      "execution_count": 24,
      "outputs": []
    },
    {
      "cell_type": "code",
      "source": [
        "f = lambda x: np.cosh(x) * np.cos(x) - 1\n",
        "raiz, iters = raiz_ridder(f, 4, 5, 1e-6, 1000)\n",
        "print('Raíz encontrada:', raiz)\n",
        "print('Número de iterações:', iters)"
      ],
      "metadata": {
        "colab": {
          "base_uri": "https://localhost:8080/"
        },
        "id": "5AzcfIapTZpc",
        "outputId": "f6853cf4-cc95-4e85-985d-94afc0f86380"
      },
      "execution_count": 25,
      "outputs": [
        {
          "output_type": "stream",
          "name": "stdout",
          "text": [
            "Raíz encontrada: 4.702214518015284\n",
            "Número de iterações: 997\n"
          ]
        }
      ]
    },
    {
      "cell_type": "markdown",
      "source": [
        "---\n",
        "## Questão 18\n",
        "Determine as duas raízes de “$sen(x+3) cos(x−2) = 0$” do intervalo (−2, 2), utilizando o método de Newton Raphson.\n"
      ],
      "metadata": {
        "id": "5eDhJGIzP_KT"
      }
    },
    {
      "cell_type": "code",
      "source": [
        "import numpy as np\n",
        "\n",
        "# Método de Newton-Raphson\n",
        "def metodo_newtonraphson(x):\n",
        "  h = f(x) / df(x)\n",
        "  while abs(h) >= 0.00001:  # Tolerância\n",
        "    h = f(x) / df(x)\n",
        "    x = x - h\n",
        "  return x\n",
        "\n",
        "# Equação\n",
        "f = lambda x: np.sin(x+3) * np.cos(x-2)\n",
        "\n",
        "# Derivada da equação\n",
        "df = lambda x: np.cos(2*x+1)\n",
        "\n",
        "# Intervalo\n",
        "x1 = -2\n",
        "x2 = 2\n",
        "print(f'Raíz para {x1}: {metodo_newtonraphson(x1)}')\n",
        "print(f'Raíz para {x2}: {metodo_newtonraphson(x2)}')"
      ],
      "metadata": {
        "id": "heCT2CBfT8MV",
        "colab": {
          "base_uri": "https://localhost:8080/"
        },
        "outputId": "8d950aa5-c021-4767-c9ea-667b550325c5"
      },
      "execution_count": 26,
      "outputs": [
        {
          "output_type": "stream",
          "name": "stdout",
          "text": [
            "Raíz para -2: -2.7123889803846897\n",
            "Raíz para 2: 6.712388980394433\n"
          ]
        }
      ]
    },
    {
      "cell_type": "markdown",
      "source": [
        "---\n",
        "## Questão 19\n",
        "Determine as coordenadas dos dois pontos onde os círculos $(x - 2)^2 + y^2 = 4$ e $x^2 + (y - 3)^2 = 4$ se cruzam. Comece estimando as localizações dos pontos a partir de um esboço dos círculos e, em seguida, use o método Newton-Raphson para calcular as coordenadas.\n"
      ],
      "metadata": {
        "id": "trjYnfLsQDPN"
      }
    },
    {
      "cell_type": "code",
      "source": [],
      "metadata": {
        "id": "AKZiZSUET7wy"
      },
      "execution_count": 26,
      "outputs": []
    },
    {
      "cell_type": "markdown",
      "source": [
        "---\n",
        "## Questão 20\n",
        "<img align='right' src='https://lh3.googleusercontent.com/drive-viewer/AJc5JmTCWsqK4GY6s9a3AoWyGiOPsrpcS-FI4WYHT10sXHiM2KH9Xyo0alyU0ozS8L_tLLqIgcVFVbs=w1366-h657' style='vertical-align:top'>\n",
        "\n",
        "\n",
        "O tanque de óleo cilíndrico de raio r e comprimento L é enchido até a profundidade h. O volume de óleo no tanque é\n",
        "\n",
        "\\begin{align}\n",
        "  V = r^{2}L \\left[\\phi - \\left(1 - \\frac hr\\right) \\sin\\phi \\right]\n",
        "\\end{align}\n",
        "\n",
        "Onde\n",
        "\n",
        "\\begin{align}\n",
        "  \\phi = \\cos^{-1} \\left(1 - \\frac hr \\right)\n",
        "\\end{align}\n",
        "\n",
        "Se o tanque estiver 3/4 cheio, determine *h/r*."
      ],
      "metadata": {
        "id": "y3Y9ObKWQJ3L"
      }
    },
    {
      "cell_type": "code",
      "source": [],
      "metadata": {
        "id": "rX5ZF5aFT8ju"
      },
      "execution_count": 26,
      "outputs": []
    }
  ]
}